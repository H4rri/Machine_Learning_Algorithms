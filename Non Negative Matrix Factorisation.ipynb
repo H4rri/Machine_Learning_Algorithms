{
 "cells": [
  {
   "cell_type": "markdown",
   "metadata": {},
   "source": [
    "# Non Negative Matrix Factorisation"
   ]
  },
  {
   "cell_type": "markdown",
   "metadata": {},
   "source": [
    "The purpose of this project will be to explore a Non Negative Matrix Factorisation (NMF) algorithm from scratch. The algorithm will consist of a euclidean and kl-divergence cost function optimised using a multiplicative update approach. My efforts in this project were part of the coursework of Advanced Machine Learning from the Master of Data Science offered by the University of Sydney. Throughout this notebook, I will paste snippets of the report that I wrote in collaboration with my assignment partner Joshua Huang.\n",
    "\n",
    "Key achievements:\n",
    "1. Investigated and wrote a Non Negative Matrix Factorisation algorithm from scratch.\n",
    "2. First time working with images in a machine learning application.\n",
    " "
   ]
  },
  {
   "cell_type": "markdown",
   "metadata": {},
   "source": [
    "Over the last few decades, Non-Negative Matrix Factorisation (NMF) has been demonstrated as a potential unsupervised learning and decomposition technique that can be used across a wide range of applications including image recognition, speech recognition and natural language processing. The major difference between NMF and other matrix decomposition algorithms is that all matrices involved in NMF are required to be non-negative. This is a reasonable constraint as many observations in the physical world are represented by non-negative numbers. As with all machine learning algorithms however, NMF has been found to perform differently depending on the underlying application, with one specific variable being the distribution of noise present in the data. Consequently, a number of researchers in the field have proposed various modifications to NMF, namely through the use of different cost functions and optimisation procedures. \n",
    "\n",
    "This project thus aims to validate the robustness of the standard NMF algorithms which use the squared Euclidean distance and Kullback-Leibler divergence cost function to different types of noise. Specifically, the importance of pre-processing and robustness to noise generated from a Gaussian and Laplacian distribution will be investigated. The datasets used for experimentation will consist of the ORL and YaleB dataset. All experimentation scenarios will be applied to both datasets and evaluated using three different robustness metrics (Relative Reconstruction Errors, Average Accuracy and Normalised Mutual Information) on each algorithm’s performance. "
   ]
  },
  {
   "cell_type": "markdown",
   "metadata": {},
   "source": [
    "The notebook will use two image datasets - CroppedYaleB and ORL. \n",
    "\n",
    "CroppedYaleB can be found here:\n",
    "http://vision.ucsd.edu/~leekc/ExtYaleDatabase/ExtYaleB.html\n",
    "\n",
    "and ORL here:\n",
    "http://www.cl.cam.ac.uk/Research/DTG/attarchive:pub/data/att_faces.zip"
   ]
  },
  {
   "cell_type": "code",
   "execution_count": 19,
   "metadata": {},
   "outputs": [
    {
     "name": "stdout",
     "output_type": "stream",
     "text": [
      "Sample image from ORL dataset:\n"
     ]
    },
    {
     "data": {
      "image/png": "[encoded data removed]",
      "text/plain": [
       "<Figure size 432x288 with 1 Axes>"
      ]
     },
     "metadata": {
      "needs_background": "light"
     },
     "output_type": "display_data"
    }
   ],
   "source": [
    "import os\n",
    "import numpy as np\n",
    "from PIL import Image\n",
    "import matplotlib.pyplot as plt\n",
    "import random\n",
    "import datetime\n",
    "\n",
    "#functions for loading the image datasets\n",
    "\n",
    "def load_data(root='C:/Users/Harrison/Documents/Uni Work/Advanced Machine Learning/data/CroppedYaleB', reduce=4):\n",
    "    images, labels = [], []\n",
    "    for i, person in enumerate(sorted(os.listdir(root))):\n",
    "        if not os.path.isdir(os.path.join(root, person)):\n",
    "            continue        \n",
    "        for fname in os.listdir(os.path.join(root, person)):  \n",
    "            # Remove background images in Extended YaleB dataset.\n",
    "            if fname.endswith('Ambient.pgm'):\n",
    "                continue            \n",
    "            if not fname.endswith('.pgm'):\n",
    "                continue                \n",
    "            # load image.\n",
    "            img = Image.open(os.path.join(root, person, fname))\n",
    "            img = img.convert('L') # grey image.\n",
    "            # reduce computation complexity.\n",
    "            img = img.resize([s//reduce for s in img.size])\n",
    "            # preprocessing (normalisation)\n",
    "            img = (img-np.min(img))/(np.max(img)-np.min(img))\n",
    "            # convert image to numpy array.\n",
    "            img = np.asarray(img).reshape((-1,1))           \n",
    "            # collect data and label.\n",
    "            images.append(img)\n",
    "            labels.append(i)\n",
    "    # concate all images and labels.\n",
    "    images = np.concatenate(images, axis=1)\n",
    "    labels = np.array(labels)\n",
    "    return images, labels\n",
    "\n",
    "def load_data_without_normalisation(root='C:/Users/Harrison/Documents/Uni Work/Advanced Machine Learning/data/CroppedYaleB', reduce=4):\n",
    "    images, labels = [], []\n",
    "    for i, person in enumerate(sorted(os.listdir(root))):\n",
    "        if not os.path.isdir(os.path.join(root, person)):\n",
    "            continue        \n",
    "        for fname in os.listdir(os.path.join(root, person)):  \n",
    "            # Remove background images in Extended YaleB dataset.\n",
    "            if fname.endswith('Ambient.pgm'):\n",
    "                continue            \n",
    "            if not fname.endswith('.pgm'):\n",
    "                continue                \n",
    "            # load image.\n",
    "            img = Image.open(os.path.join(root, person, fname))\n",
    "            img = img.convert('L') # grey image.\n",
    "            # reduce computation complexity.\n",
    "            img = img.resize([s//reduce for s in img.size])\n",
    "            # preprocessing (normalisation)\n",
    "            img = (img-np.min(img))/(np.max(img)-np.min(img))\n",
    "            # convert image to numpy array.\n",
    "            img = np.asarray(img).reshape((-1,1))           \n",
    "            # collect data and label.\n",
    "            images.append(img)\n",
    "            labels.append(i)\n",
    "    # concate all images and labels.\n",
    "    images = np.concatenate(images, axis=1)\n",
    "    labels = np.array(labels)\n",
    "    return images, labels\n",
    "\n",
    "#Sample images from both datasets\n",
    "V_orl, Y = load_data(root='C:/Users/Harrison/Documents/Uni Work/Advanced Machine Learning/Assignment 1/data/ORL', reduce=3)\n",
    "#print('ORL dataset: X.shape = {}, Y.shape = {}'.format(V.shape, Y.shape))  #reshape numbers: 37, 30\n",
    "\n",
    "image_original = V_orl[:,0].reshape(37,30)\n",
    "plt.imshow(image_original, cmap=plt.cm.gray)\n",
    "print('Sample image from ORL dataset:')"
   ]
  },
  {
   "cell_type": "code",
   "execution_count": 18,
   "metadata": {},
   "outputs": [
    {
     "name": "stdout",
     "output_type": "stream",
     "text": [
      "Sample image from Yale dataset\n"
     ]
    },
    {
     "data": {
      "image/png": "[encoded data removed]",
      "text/plain": [
       "<Figure size 432x288 with 1 Axes>"
      ]
     },
     "metadata": {
      "needs_background": "light"
     },
     "output_type": "display_data"
    }
   ],
   "source": [
    "#load the YaleB Database\n",
    "V_yale, Y = load_data(root='C:/Users/Harrison/Documents/Uni Work/Advanced Machine Learning/Assignment 1/data/CroppedYaleB', reduce=6)\n",
    "#print('Extended YalB dataset: X.shape = {}, Y.shape = {}'.format(V.shape, Y.shape)) #reshape numbers 32, 28\n",
    "\n",
    "image_original = V_yale[:,0].reshape(32,28)\n",
    "plt.imshow(image_original, cmap=plt.cm.gray)\n",
    "print('Sample image from Yale dataset:')"
   ]
  },
  {
   "cell_type": "markdown",
   "metadata": {},
   "source": [
    "The functions below are Non Negative Matrix Factorisation algorithms written using standard squared Euclidean distance and KL Divergence cost functions. The multiplicative update rules are written to gaurantee optimisation. According to the academic literature, Euclidean NMF is more robust against gaussian noise and less robust against laplacian compared to KL-Divergence NMF."
   ]
  },
  {
   "cell_type": "code",
   "execution_count": 22,
   "metadata": {},
   "outputs": [],
   "source": [
    "#function for NMF using a euclidean based cost function and a multiplicative update algorithm\n",
    "\n",
    "def NMF_euc(V, max_iterations):\n",
    "    n = V.shape[0]\n",
    "    m = V.shape[1]\n",
    "    r = np.linalg.matrix_rank(V)\n",
    "    W = np.random.rand(n, r)\n",
    "    H = np.random.rand(r, m)        \n",
    "    records = []\n",
    "    iteration_count = 0\n",
    "    conv_criteria = []\n",
    "    stop_flag = 0\n",
    "#stop criteria maxes at specified max_iterations or when ratio of the\n",
    "#difference in loss is between 0.99 and 1 for last 20 iterations(i.e. convergence)\n",
    "    while iteration_count < max_iterations and stop_flag != 1:\n",
    "        W_stationary = W\n",
    "        H_stationary = H\n",
    "        top_H = np.dot(W_stationary.T, V)\n",
    "        bottom_H = W_stationary.T.dot(np.dot(W_stationary, H_stationary))\n",
    "        for i in range(H.shape[0]):\n",
    "            for j in range(H.shape[1]):\n",
    "                H[i][j] = H_stationary[i][j] * top_H[i][j] / bottom_H[i][j]  \n",
    "        H_stationary = H\n",
    "        W_stationary = W\n",
    "        top_W = np.dot(V, H_stationary.T)\n",
    "        bottom_W = W_stationary.dot(np.dot(H_stationary, H_stationary.T))\n",
    "        for i in range(W.shape[0]):\n",
    "            for j in range(W.shape[1]):\n",
    "                W[i][j] = W_stationary[i][j] * top_W[i][j] / bottom_W[i][j]\n",
    "        loss = np.sum((V - W.dot(H))**2)   \n",
    "        records.append(loss)\n",
    "        iteration_count += 1\n",
    "        ##print('Iteration %s: %s' %(iteration_count, loss))\n",
    "        if iteration_count > 100:\n",
    "            try:\n",
    "                conv_1 = abs(records[-2] - records[-1])\n",
    "                conv_2 = abs(records[-3] - records[-2])\n",
    "                convergence_value = conv_1/conv_2\n",
    "                conv_criteria.append (convergence_value)\n",
    "                last_20_1 = np.array(conv_criteria[-20:]) > 0.99 \n",
    "                last_20_2 = np.array(conv_criteria[-20:]) < 1  \n",
    "                if np.sum(last_20_1) == np.sum(last_20_2):\n",
    "                    stop_flag = 1\n",
    "                else:\n",
    "                    stop_flag = 0\n",
    "            except:\n",
    "                next\n",
    "    return W,H\n",
    "\n",
    "#KL Divergence NMF\n",
    "def NMF_div(V, max_iterations):\n",
    "    n = V.shape[0]\n",
    "    m = V.shape[1]\n",
    "    r = np.linalg.matrix_rank(V)\n",
    "    W = np.random.rand(n, r)\n",
    "    H = np.random.rand(r, m)        \n",
    "    records = []\n",
    "    iteration_count = 0\n",
    "    conv_criteria = []\n",
    "    stop_flag = 0\n",
    "    while iteration_count < max_iterations and stop_flag != 1:\n",
    "        W_stationary = W\n",
    "        H_stationary = H\n",
    "        top_H = W_stationary.T.dot(V/np.dot(W_stationary, H_stationary))\n",
    "        bottom_H = np.dot(W_stationary.T, np.ones(V.shape))\n",
    "        for i in range(H.shape[0]):\n",
    "            for j in range(H.shape[1]):\n",
    "                H[i][j] = H_stationary[i][j] * top_H[i][j] / bottom_H[i][j]  \n",
    "        H_stationary = H\n",
    "        W_stationary = W\n",
    "        top_W = np.dot((V/np.dot(W_stationary, H_stationary)), H_stationary.T)\n",
    "        bottom_W = np.dot(np.ones(V.shape),H_stationary.T)\n",
    "        for i in range(W.shape[0]):\n",
    "            for j in range(W.shape[1]):\n",
    "                W[i][j] = W_stationary[i][j] * top_W[i][j] / bottom_W[i][j]\n",
    "        z = V/(np.dot(W,H))\n",
    "        z[z<=0] = 0.001\n",
    "        loss = np.sum(V*np.log(z) - V + W.dot(H))\n",
    "        records.append(loss)\n",
    "        iteration_count += 1\n",
    "        #print(loss)\n",
    "        if iteration_count > 100:\n",
    "            try:\n",
    "                conv_1 = abs(records[-2] - records[-1])\n",
    "                conv_2 = abs(records[-3] - records[-2])\n",
    "                convergence_value = conv_1/conv_2\n",
    "                conv_criteria.append (convergence_value)\n",
    "                last_20_1 = np.array(conv_criteria[-20:]) > 0.99 \n",
    "                last_20_2 = np.array(conv_criteria[-20:]) < 1  \n",
    "                if np.sum(last_20_1) == np.sum(last_20_2):\n",
    "                    stop_flag = 1\n",
    "                else:\n",
    "                    stop_flag = 0\n",
    "            except:\n",
    "                next\n",
    "    return W,H"
   ]
  },
  {
   "cell_type": "code",
   "execution_count": 23,
   "metadata": {},
   "outputs": [],
   "source": [
    "#These functions will be used to measure the robustness of each algorithm i.e robustness evaluation metrics (accuracy,\n",
    "#relative reconstruction errors (RRE) and Normalised Mutual Information (NMI).\n",
    "\n",
    "from collections import Counter\n",
    "from sklearn.cluster import KMeans\n",
    "from sklearn.metrics import accuracy_score\n",
    "from sklearn.metrics import normalized_mutual_info_score\n",
    "\n",
    "def assign_cluster_label(X, Y):\n",
    "    kmeans = KMeans(n_clusters=len(set(Y))).fit(X)\n",
    "    Y_pred = np.zeros(Y.shape)\n",
    "    for i in set(kmeans.labels_):\n",
    "        ind = kmeans.labels_ == i\n",
    "        Y_pred[ind] = Counter(Y[ind]).most_common(1)[0][0] # assign label.\n",
    "    return Y_pred\n",
    "\n",
    "#kmeans = KMeans(n_clusters=len(set(Y))).fit(V_recon.T)\n",
    "\n",
    "#Y_pred = assign_cluster_label(np.dot(W,H).T,Y)\n",
    "#acc = accuracy_score(Y, Y_pred)\n",
    "\n",
    "###Relative reconstruction errors (RRE)\n",
    "#RRE = np.linalg.norm(V-np.dot(W, H)) / np.linalg.norm(V)\n",
    "\n",
    "###NMI\n",
    "#nmi = normalized_mutual_info_score(Y, Y_pred)"
   ]
  },
  {
   "cell_type": "markdown",
   "metadata": {},
   "source": [
    "To investigate the differences between Euclidean Distance and KL Divergence NMF, different types of noise will be added to the images in both datasets. The noises used in this experiment will include gaussian, laplacian and sparse noise. Please see below:\n",
    "\n",
    "<img src=\"/files/Different Noises.png\">"
   ]
  },
  {
   "cell_type": "code",
   "execution_count": 24,
   "metadata": {},
   "outputs": [],
   "source": [
    "#Noise functions\n",
    "\n",
    "def add_gaussian_noise(V, mean, std_dev):\n",
    "    V_noise = np.ones(V.shape)\n",
    "    for column in range(V.shape[1]):\n",
    "        gaussian_noise = np.random.normal(mean, std_dev, V.shape[0])\n",
    "        gaussian_noise[gaussian_noise<0] = 0\n",
    "        V_noise[:,column] = V[:,column] + gaussian_noise        \n",
    "    V_noise[V_noise<0] = 0\n",
    "    return V_noise\n",
    "        \n",
    "def add_laplac_noise(V, centre, scale):\n",
    "    laplac_noise = np.random.laplace(centre,scale,V.shape)\n",
    "    laplac_noise[laplac_noise<0] = 0\n",
    "    V_noise = V + laplac_noise\n",
    "    return V_noise\n",
    "\n",
    "def add_sparse_noise(V, width, height, reshape_1, reshape_2):\n",
    "    V_noise = []\n",
    "    for image in range(V.shape[1]):\n",
    "        img = V[:, image].reshape(reshape_1,reshape_2)\n",
    "        start_x = np.random.randint(0, reshape_2 - width)\n",
    "        start_y = np.random.randint(0, reshape_1 - height)\n",
    "        img[start_y: start_y+height, start_x:start_x+width] = 1\n",
    "        img = np.asarray(img).reshape((-1,1))\n",
    "        V_noise.append(img)\n",
    "    V_noise = np.concatenate(V_noise, axis=1)\n",
    "    return V_noise"
   ]
  },
  {
   "cell_type": "markdown",
   "metadata": {},
   "source": [
    "The code below can be described as three separate experiments. Each experiment will add a different type of noise to the dataset (Gaussian, Laplacian and Sparse* respectively) and measure the robustness of the algorithm against RRE, Accuracy and NMI. Within each experiment, the algorithm will be run 5 times and each metric will then be averaged and recorded.\n",
    "\n",
    "Each code will have the optional functions commented out. Feel free to activate them as appropriate. The commented-out code will include:\n",
    "1) Reading in the different datasets (ORL or YALEB)\n",
    "2) Switching between Euclidean or Divergence NMF algorithms\n",
    "3) Adding different types of noise (Gaussian, Laplacian and Sparse)"
   ]
  },
  {
   "cell_type": "code",
   "execution_count": 32,
   "metadata": {},
   "outputs": [
    {
     "name": "stdout",
     "output_type": "stream",
     "text": [
      "Extended YalB dataset: X.shape = (896, 2414), Y.shape = (2414,)\n",
      "Results:\n",
      "RRE mean: 0.1835163305672902\n",
      "Acc mean: 0.22265193370165748\n",
      "NMI mean: 0.3487073027375593\n"
     ]
    }
   ],
   "source": [
    "#load the ORL Database\n",
    "#V, Y = load_data(root='C:/Users/Harrison/Documents/Uni Work/Advanced Machine Learning/Assignment 1/data/ORL', reduce=3)\n",
    "#print('ORL dataset: X.shape = {}, Y.shape = {}'.format(V.shape, Y.shape))  #reshape numbers: 37, 30\n",
    "\n",
    "#load the YaleB Database\n",
    "V, Y = load_data(root='C:/Users/Harrison/Documents/Uni Work/Advanced Machine Learning/Assignment 1/data/CroppedYaleB', reduce=6)\n",
    "print('Extended YalB dataset: X.shape = {}, Y.shape = {}'.format(V.shape, Y.shape)) #reshape numbers 32, 28\n",
    "\n",
    "rre_results = []\n",
    "acc_results = []\n",
    "nmi_results = []\n",
    "\n",
    "for i in range(5):       \n",
    "    #subset = random.sample(range(V.shape[1]), int(0.9*V.shape[1])) #ORL dataset\n",
    "    subset = random.sample(range(V.shape[1]), int(0.15*V.shape[1])) #YaleB dataset, reduce dataset to reduce computational time\n",
    "    V_test = V[:, subset]\n",
    "    Y_test = Y[subset]\n",
    "        \n",
    "    #adding noise\n",
    "    ##gaussian noise\n",
    "    #V_noise = add_gaussian_noise(V_test, 0, 0.15)\n",
    "    \n",
    "    ##laplacian noise\n",
    "    V_noise = add_laplac_noise(V_test, 0, 0.2)\n",
    "    \n",
    "    ##sparse noise\n",
    "    #V_noise = add_sparse_noise(V_test, 10, 5, 37, 30) #if ORL dataset, using reduce = 3\n",
    "    #V_noise = add_sparse_noise(V_test, 10, 5, 32, 28 ) #if YaleB dataset, using reduce = 6\n",
    "    \n",
    "    #apply NMF\n",
    "    W, H = NMF_euc(V_noise, 500)\n",
    "    #W, H = NMF_div(V_noise, 500)\n",
    "    \n",
    "    #evaluation metrics\n",
    "    RRE = np.linalg.norm(V_noise-np.dot(W, H)) / np.linalg.norm(V_noise)\n",
    "    rre_results.append(RRE)\n",
    "    \n",
    "    Y_pred = assign_cluster_label(np.dot(W,H).T,Y_test)\n",
    "    acc = accuracy_score(Y_test, Y_pred)\n",
    "    acc_results.append(acc)\n",
    "    \n",
    "    nmi = normalized_mutual_info_score(Y_test, Y_pred)\n",
    "    nmi_results.append(nmi)\n",
    "    #print(nmi)\n",
    "    \n",
    "#evaluate results\n",
    "rre_mean = np.mean(rre_results)\n",
    "acc_mean = np.mean(acc_results)\n",
    "nmi_mean = np.mean(nmi_results)\n",
    "print(\"Results:\")\n",
    "print('RRE mean: %s' %(rre_mean))\n",
    "print('Acc mean: %s' %(acc_mean))\n",
    "print('NMI mean: %s' %(nmi_mean))"
   ]
  },
  {
   "cell_type": "markdown",
   "metadata": {},
   "source": [
    "The following tables contain the results from the above experiments*:\n",
    "\n",
    "<img src=\"/files/ORL_Results.png\">\n",
    "\n",
    "<img src=\"/files/Yale_Results.png\">\n",
    "\n",
    "*Results are taken from the assignment at the time and therefore may not align with the coded results (experiment was not seeded, my bad!)"
   ]
  },
  {
   "cell_type": "markdown",
   "metadata": {},
   "source": [
    "Discussion of Results\n",
    "\n",
    "From the analysis of results, adding noise was seen to have a considerable impact on the performance of both matrix factorization algorithms. Using the no noise metrics as the baseline, Gaussian Noise was seen to have equivalent impact on both Euclidean and KL Divergence NMF, recording an increase of ~0.07 in the RRE value. This is expected as both factorization algorithms perform considerably worse if the Gaussian noise exceeds a certain limit. In the ORL dataset the KL Divergence performed much better with Laplacian noise than the Euclidean distance. This is in stark contrast to the Laplacian noise results from the YaleB dataset, where the KL Divergence performed worse. This could be as a result of the YaleB dataset containing more corruptions than the ORL dataset (where the face is obscured due to poor lightning), or as a consequence of the Laplacian noise that was added separately in each experiment. As the Python algorithm initialized the noise randomly on each experimental iteration, more noise could have been added when testing the YaleB dataset. Furthermore, only 15% of the YaleB dataset was used due to computational reasons compared to the 90% used for the ORL dataset, which could explain the smaller discrepancies observed in YaleB. Both algorithms had similar performance with sparse noise as the noise value was much lower than the Gaussian and Laplacian noise added. \n",
    "\n",
    "Thorough analysis of the NMI and ACC also indicate a significant decrease between the dataset scores. As explained above this could be simply due to the structural differences of the data or methodologies used in obtaining the results. Both algorithms also had poor performance with Laplacian noise using these metrics, indicating that the higher noise bounds (greater probability of moderate to extreme outliers due to the distribution’s fatter tails) were more likely to corrupt and affect the algorithm’s performance than Gaussian noise. Sparse noise had a more minor  impact on performance as the quantity of noise was smaller. "
   ]
  },
  {
   "cell_type": "markdown",
   "metadata": {},
   "source": [
    "Conclusion\n",
    "\n",
    "Thorough analysis of the proposed NMF methods have shown that the Euclidean cost metric is relatively on par with the KL Divergence metric. Whilst literature has dictated that KL Divergence is generally meant to be more robust to Gaussian and Laplacian noise, the results obtained within this experiment has proven otherwise. This could be as a result of structural differences between both datasets or due to the initialization method utilized within this experiment. Column-wise normalization was found to have minimal impact however it is likely that multiple experiments need to be conducted to confirm this result. \n",
    "\n",
    "The investigations undertaken by this paper have inspired various pathways for future work. This paper only looked at one type of normal and laplacian distribution (i.e. one combination of mean and standard deviation only). Future work would be to perform more experiments using gaussian and laplacian noise, but vary the underlying characteristics of each by shifting the mean and standard deviation or centre and scales respectively. This will give a more robust conclusion to whether Euclidean or KL-divergence performs better on which type of noise. In addition to this, more complex noise, following the idea of sparse noise could also be further investigated in future work. \n"
   ]
  },
  {
   "cell_type": "code",
   "execution_count": null,
   "metadata": {},
   "outputs": [],
   "source": [
    "#Appendix for reconstructing the noisy images\n",
    "\n",
    "#reconstruct images with noise #ORL datasets\n",
    "image_original = V[:,0].reshape(37,30)\n",
    "plt.imshow(image_original, cmap=plt.cm.gray)\n",
    "\n",
    "#noisy_image = V_noise[:,0].reshape(37,30)\n",
    "plt.imshow(noisy_image, cmap=plt.cm.gray)\n",
    "\n",
    "#reconstruct images with noise #YaleB datasets\n",
    "image_original = V_subset[:,0].reshape(32,28) \n",
    "plt.imshow(image_original, cmap=plt.cm.gray)\n",
    "\n",
    "noisy_image = V_noise[:,0].reshape(32,28)\n",
    "plt.imshow(noisy_image, cmap=plt.cm.gray)\n",
    "\n",
    "#applying R\n",
    "r = 300\n",
    "W_final_chop = W_final[:,:r]\n",
    "H_final_chop = H_final[:r,:]\n",
    "recon_r = np.dot(W_final_chop, H_final_chop)\n",
    "noisy_image_r = recon_r[:,0].reshape(37,30)\n",
    "plt.imshow(noisy_image_r, cmap=plt.cm.gray)"
   ]
  }
 ],
 "metadata": {
  "kernelspec": {
   "display_name": "Python 3",
   "language": "python",
   "name": "python3"
  },
  "language_info": {
   "codemirror_mode": {
    "name": "ipython",
    "version": 3
   },
   "file_extension": ".py",
   "mimetype": "text/x-python",
   "name": "python",
   "nbconvert_exporter": "python",
   "pygments_lexer": "ipython3",
   "version": "3.7.0"
  }
 },
 "nbformat": 4,
 "nbformat_minor": 2
}
