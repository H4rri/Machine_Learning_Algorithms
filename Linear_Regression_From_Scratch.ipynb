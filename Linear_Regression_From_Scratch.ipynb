{
 "cells": [
  {
   "cell_type": "markdown",
   "metadata": {},
   "source": [
    "#Linear Regression Algorithm (Completed September, 2018):\n",
    "\n",
    "The aim of this project will be to understand the concept of linear regression and demonstrate this through code. Specifically, I will use the mean squared error loss function as well as apply a basic gradient descent function from scratch. I acknowledge the simplicity of my linear regression code but adding \"extra features\" (such as toggling normalisation on and off, fitting intercepts etc.) are beyond the objectives of this exercise.\n",
    "\n",
    "To validate that my code works, I will apply my regression algorithm on two datasets (Advertising and IRIS) and compare the optimised weights given by the scikitlearn linear regression algorithm. If they are similar, then it is enough for me to assume that my algorithm is correct and functional.\n",
    "\n",
    "Key achievements from this project:\n",
    "1. Understanding linear regression using one variable.\n",
    "2. Understanding linear regression using multiple variables.\n",
    "3. Understanding of loss functions.\n",
    "3. Coding a gradient descent function from scratch.\n",
    "4. Writing a linear regression algorithm from scratch."
   ]
  },
  {
   "cell_type": "code",
   "execution_count": 49,
   "metadata": {},
   "outputs": [],
   "source": [
    "#import libraries\n",
    "\n",
    "import csv\n",
    "import numpy as np\n",
    "import pandas as pd\n",
    "import matplotlib.pyplot as plt"
   ]
  },
  {
   "cell_type": "code",
   "execution_count": 50,
   "metadata": {},
   "outputs": [
    {
     "name": "stdout",
     "output_type": "stream",
     "text": [
      "['Unnamed: 0' 'TV' 'radio' 'newspaper' 'sales']\n"
     ]
    },
    {
     "data": {
      "image/png": "[encoded data removed]",
      "text/plain": [
       "<Figure size 432x288 with 1 Axes>"
      ]
     },
     "metadata": {
      "needs_background": "light"
     },
     "output_type": "display_data"
    },
    {
     "name": "stdout",
     "output_type": "stream",
     "text": [
      "0.047536640433019736 7.0325935491276965\n"
     ]
    },
    {
     "data": {
      "image/png": "[encoded data removed]",
      "text/plain": [
       "<Figure size 432x288 with 1 Axes>"
      ]
     },
     "metadata": {
      "needs_background": "light"
     },
     "output_type": "display_data"
    }
   ],
   "source": [
    "#Linear Regression with 1 variable\n",
    "\n",
    "# load data in csv file\n",
    "budget = []\n",
    "sales = []\n",
    "\n",
    "data = pd.read_csv(\"C:\\\\Users\\\\Harrison\\\\Documents\\\\Machine Learning from Scratch\\\\Advertising.csv\")\n",
    "data.dtypes\n",
    "budget = data.iloc[:,1:-1]\n",
    "sales = data.iloc[:,-1]\n",
    "print(data.columns.values)\n",
    "\n",
    "# Visualize the data\n",
    "feature_number = 0\n",
    "X_axis = budget.iloc[:,feature_number]\n",
    "X_axis_label = budget.columns.values[feature_number]\n",
    "plt.plot(X_axis,sales,'ro')\n",
    "plt.xlabel(X_axis_label.title() + ' Budget')\n",
    "plt.ylabel('Sales')\n",
    "plt.show()\n",
    "\n",
    "#now let's compute the weights for a linear regression model using the TV budget only\n",
    "X = X_axis\n",
    "Y = sales\n",
    "x_mean = np.average(X)\n",
    "y_mean = np.average(Y)\n",
    "#calculate the coefficient of the given variable. The formula used to do so can be derived through the \n",
    "#differentiation of the Residual Sum of Squares equation.\n",
    "w_0 = np.sum((X - x_mean)*(Y - y_mean))/np.sum((X - x_mean)**2) \n",
    "#simultaneous equations to fit the intercept\n",
    "w_1 = y_mean - w_0*x_mean\n",
    "\n",
    "print(w_0, w_1)\n",
    "pred_y = w_0*X + w_1\n",
    "plt.plot(X_axis,sales,'ro', X_axis, pred_y, 'b--')\n",
    "plt.xlabel(X_axis_label.title() + ' Budget')\n",
    "plt.ylabel('Sales')\n",
    "plt.show()"
   ]
  },
  {
   "cell_type": "code",
   "execution_count": 51,
   "metadata": {},
   "outputs": [],
   "source": [
    "#functions for a linear regression using multiple variables from scratch\n",
    "#my linear regression assumes an intercept is desired.\n",
    "\n",
    "def normalise(features):\n",
    "    normalised_features = pd.DataFrame()\n",
    "    features = pd.DataFrame(features)\n",
    "    for i in range(0, features.shape[1]):\n",
    "        z = (features.iloc[:,i] - np.min(features.iloc[:,i])) / (np.max(features.iloc[:,i]) - np.min(features.iloc[:,i]))\n",
    "        normalised_features = pd.concat([normalised_features, z], axis = 1)\n",
    "    return normalised_features\n",
    "\n",
    "#the cost function used will be mean squared error\n",
    "def cost_function(X, Y, weights):\n",
    "        cost = np.sum((Y - np.dot(X, weights))**2)/2*len(X)\n",
    "        return cost\n",
    "\n",
    "def gradient_descent(X, Y, weights, alpha, iterations):\n",
    "    #set up cost history\n",
    "    cost_history = []\n",
    "    for iter in range(0,iterations):\n",
    "        #loss function\n",
    "        loss = np.dot(X, weights) - Y\n",
    "        #adjust gradient - the dot product facilitates the partial differentiation all at once (as required). \n",
    "        #The loss is there because when you partially differentiate the cost function with respect to \n",
    "        #the weight, it stays the same so its easier to calculate it as loss first.\n",
    "        gradient = X.T.dot(loss)/len(X)\n",
    "        #adjust weights\n",
    "        weights = weights - alpha*gradient\n",
    "        cost = cost_function(X, Y, weights)\n",
    "        cost_history.append(cost)\n",
    "    return weights, cost_history\n",
    "\n",
    "def linear_regression(X, Y, learning_rate, iterations):\n",
    "    X = pd.DataFrame(X)\n",
    "    X = normalise(X)\n",
    "    X0 = pd.DataFrame(np.ones(len(X)))\n",
    "    X = pd.concat([X0, X], axis = 1)\n",
    "    #initialise weights\n",
    "    weights = np.zeros(X.shape[1])\n",
    "    weights, cost_history = gradient_descent(X,Y, weights, learning_rate, iterations)\n",
    "    return weights, cost_history"
   ]
  },
  {
   "cell_type": "code",
   "execution_count": 27,
   "metadata": {},
   "outputs": [
    {
     "name": "stdout",
     "output_type": "stream",
     "text": [
      "Weights given by the linear regression from scratch:\n",
      "0             2.970366\n",
      "TV           13.532610\n",
      "radio         9.350479\n",
      "newspaper    -0.115990\n",
      "dtype: float64\n",
      "\n",
      "Weights given by the linear regression from scikitlearn:\n",
      "Intercept: 2.9706133733654507\n",
      "Coefficients: [13.53260566  9.35108884 -0.11796296]\n"
     ]
    }
   ],
   "source": [
    "#run linear regression using my algorithm and compare results to scikitlearn's linear regression algorithm\n",
    "\n",
    "data = pd.read_csv(\"C:\\\\Users\\\\Harrison\\\\Documents\\\\Machine Learning from Scratch\\\\Advertising.csv\")\n",
    "data.dtypes\n",
    "\n",
    "budget = data.iloc[:,1:-1]\n",
    "sales = data.iloc[:,-1]\n",
    "\n",
    "weights, cost_history = linear_regression(budget, sales, 0.05, 5000)\n",
    "print('Weights given by the linear regression from scratch:')\n",
    "print(weights)\n",
    "\n",
    "from sklearn.linear_model import LinearRegression\n",
    "from sklearn.preprocessing import MinMaxScaler\n",
    "\n",
    "model = LinearRegression(normalize=False)\n",
    "scaler = MinMaxScaler()\n",
    "normalized_features = scaler.fit_transform(budget)\n",
    "z = model.fit(normalized_features, sales)\n",
    "\n",
    "print('\\nWeights given by the linear regression from scikitlearn:')\n",
    "print('Intercept: ' + str(z.intercept_))\n",
    "print('Coefficients: ' + str(z.coef_))\n",
    " "
   ]
  },
  {
   "cell_type": "code",
   "execution_count": 28,
   "metadata": {},
   "outputs": [
    {
     "name": "stdout",
     "output_type": "stream",
     "text": [
      "Weights given by the linear regression from scratch:\n",
      "0                   -0.162094\n",
      "sepal length (cm)   -0.723083\n",
      "sepal width (cm)     0.530652\n",
      "petal length (cm)    3.074907\n",
      "dtype: float64\n",
      "\n",
      "Weights given by the linear regression from scikitlearn:\n",
      "Intercept: -0.16924769206769552\n",
      "Coefficients: [-0.75697678  0.54906531  3.10392026]\n"
     ]
    }
   ],
   "source": [
    "#apply the algorithm on another dataset and compare the weights\n",
    "\n",
    "#load iris dataset\n",
    "from sklearn import datasets\n",
    "\n",
    "iris = datasets.load_iris()\n",
    "\n",
    "#put into dataframes\n",
    "iris_data = pd.DataFrame(iris.data)\n",
    "iris_data.columns = iris.feature_names\n",
    "labels = pd.DataFrame(iris.target)\n",
    "normalised_col_names = ['sepal length', 'sepal width', 'petal length', 'petal width']\n",
    "\n",
    "features = iris_data.iloc[:,0:-1]\n",
    "\n",
    "target = iris_data.iloc[:,-1]\n",
    "\n",
    "weights, cost_history = linear_regression(features, target, 0.03, 30000)\n",
    "print('Weights given by the linear regression from scratch:')\n",
    "print(weights)\n",
    "\n",
    "from sklearn.linear_model import LinearRegression\n",
    "from sklearn.preprocessing import MinMaxScaler\n",
    "\n",
    "model = LinearRegression(normalize=False)\n",
    "scaler = MinMaxScaler()\n",
    "normalized_features = scaler.fit_transform(features)\n",
    "z = model.fit(normalized_features, target)\n",
    "\n",
    "print('\\nWeights given by the linear regression from scikitlearn:')\n",
    "print('Intercept: ' + str(z.intercept_))\n",
    "print('Coefficients: ' + str(z.coef_))"
   ]
  },
  {
   "cell_type": "markdown",
   "metadata": {},
   "source": [
    "Given the (almost) similar weights given by both linear regression algorithms on both datasets, I am confident I have replicated a functional linear regression algorithm and demonstrated its key fundamental concepts. In my few next projects, I aspire to enhance my gradient descent algorithm and further utilise different loss functions."
   ]
  }
 ],
 "metadata": {
  "kernelspec": {
   "display_name": "Python 3",
   "language": "python",
   "name": "python3"
  },
  "language_info": {
   "codemirror_mode": {
    "name": "ipython",
    "version": 3
   },
   "file_extension": ".py",
   "mimetype": "text/x-python",
   "name": "python",
   "nbconvert_exporter": "python",
   "pygments_lexer": "ipython3",
   "version": "3.7.0"
  }
 },
 "nbformat": 4,
 "nbformat_minor": 2
}
